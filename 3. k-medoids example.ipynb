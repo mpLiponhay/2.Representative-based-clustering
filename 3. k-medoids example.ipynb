{
 "cells": [
  {
   "cell_type": "markdown",
   "id": "dated-radar",
   "metadata": {},
   "source": [
    "K-medoid, also called Partitioning Around Medoid (PAM), is a clustering algorithm that uses medoids as the center of the clusters. The medoid is selected as the point whose whose dissimilarities with all the other points in the cluster is minimum.\n",
    "\n",
    "k-medoids is the basis of Clara so we start with an example of k-medoid. Here we will use sklearn_extra, another package has been developed that offers k-medoids algorithm aside from pyclustering. This is faster than pyclustering that we used in the previous notebook. \n",
    "\n",
    "References:\n",
    "\n",
    "1. https://www.geeksforgeeks.org/ml-k-medoids-clustering-with-example/\n",
    "2. https://www.kaggle.com/saptarsi/kmedoid-sg/notebook"
   ]
  },
  {
   "cell_type": "markdown",
   "id": "worst-twelve",
   "metadata": {},
   "source": [
    "Before we apply k-medoids on a test data, we will understand the theory behind it first. The first steps of clustering is the same as the generalized method:\n",
    "\n",
    "1. Initialize: select k random points out of the n data points as the medoids $m$. \n",
    "2. Associate each data point $o$ to the closest medoid by using any common distance metric methods. One possible distance or dissimilarity measure is $𝐷=|𝑝_𝑖−𝐶_𝑖 |$.\n",
    "3. Compute the cost $J$. \n",
    "<img src = 'figures/cost_medoid.PNG'> \n",
    "\n",
    "While the cost decreases:\n",
    "   1. Swap $m$ and $o$, associate each data point to the closest medoid, recompute the cost.\n",
    "   2. If the total cost is more than that in the previous step, undo the swap."
   ]
  },
  {
   "cell_type": "markdown",
   "id": "standard-wallpaper",
   "metadata": {},
   "source": [
    "Given a toy dataset as follows, we want to apply k-medoids. \n",
    "Step 1. We set k=2 and select them randomly (in red) C1 -(4, 5) and C2 -(8, 5) as the two medoids.\n",
    "<img src = 'figures/1.PNG'>\n",
    "\n",
    "Plotting the points, we see the following.\n",
    "<img src = 'figures/2.PNG'>\n",
    "\n",
    "Step 2. Now we measure the dissimilarity of each data point with respect to each medoid. Just like in the general clustering method, we will assign the data points to clusters/medoid where the dissimilarity is minimum.\n",
    "<img src = 'figures/3-dissimiarity.PNG'>\n",
    "\n",
    "In this case, points 1, 2, 5 go to cluster C1 and 0, 3, 6, 7, 8 go to cluster C2.\n",
    "The Cost is given as (3 + 4 + 4) + (3 + 1 + 1 + 2 + 2) = 20\n",
    "\n",
    "Step 3. We randomly select a non-medoid point to be a possible candidate new medoid and recalculate the cost. Using point (8, 4) as the possible medoid to swap with the current medoids C2, the dissimilarity of each non-medoid point with the medoids – C1 (4, 5) and C2 (8, 4) is as follows.\n",
    "<img src = 'figures/4- recalc dissimiarity.PNG'>\n",
    "\n",
    "Again, each point is assigned to that cluster whose dissimilarity is less. So, the points 1, 2, 5 go to cluster C1 and 0, 3, 6, 7, 8 go to cluster C2. Calculating the new cost, we have Cost=(3 + 4 + 4) + (2 + 2 + 1 + 3 + 3) = 22, which is higher than the first cluster. Thus the medoids will not be swapped with the randomly choses medoid.\n",
    "\n",
    "The process will be repeated until the cost is minimized. For this case, we have the final cluster as in the following figure.\n",
    "\n",
    "<img src = 'figures/final cluster.PNG'>"
   ]
  },
  {
   "cell_type": "markdown",
   "id": "behind-uganda",
   "metadata": {},
   "source": [
    "### Implementing k-medoids"
   ]
  },
  {
   "cell_type": "code",
   "execution_count": 1,
   "id": "royal-equilibrium",
   "metadata": {
    "ExecuteTime": {
     "end_time": "2021-07-28T09:49:58.221450Z",
     "start_time": "2021-07-28T09:49:57.846445Z"
    }
   },
   "outputs": [],
   "source": [
    "import numpy as np \n",
    "import pandas as pd"
   ]
  },
  {
   "cell_type": "code",
   "execution_count": 2,
   "id": "guided-island",
   "metadata": {
    "ExecuteTime": {
     "end_time": "2021-07-28T09:50:09.387767Z",
     "start_time": "2021-07-28T09:50:08.323866Z"
    }
   },
   "outputs": [],
   "source": [
    "import numpy as np\n",
    "import matplotlib.pyplot as plt\n",
    "import pandas as pd\n",
    "from sklearn.cluster import KMeans\n",
    "from sklearn_extra.cluster import KMedoids"
   ]
  },
  {
   "cell_type": "code",
   "execution_count": 3,
   "id": "widespread-component",
   "metadata": {
    "ExecuteTime": {
     "end_time": "2021-07-28T09:50:21.285339Z",
     "start_time": "2021-07-28T09:50:21.225908Z"
    }
   },
   "outputs": [],
   "source": [
    "from sklearn import datasets\n",
    "myiris = datasets.load_iris()\n",
    "x = myiris.data\n",
    "y = myiris.target"
   ]
  },
  {
   "cell_type": "code",
   "execution_count": 14,
   "id": "afraid-authority",
   "metadata": {
    "ExecuteTime": {
     "end_time": "2021-07-28T10:09:30.888132Z",
     "start_time": "2021-07-28T10:09:30.883407Z"
    }
   },
   "outputs": [
    {
     "data": {
      "text/plain": [
       "(150, 4)"
      ]
     },
     "execution_count": 14,
     "metadata": {},
     "output_type": "execute_result"
    }
   ],
   "source": [
    "x.shape"
   ]
  },
  {
   "cell_type": "code",
   "execution_count": 21,
   "id": "institutional-disabled",
   "metadata": {
    "ExecuteTime": {
     "end_time": "2021-07-28T10:15:56.150619Z",
     "start_time": "2021-07-28T10:15:56.137019Z"
    }
   },
   "outputs": [],
   "source": [
    "from sklearn.preprocessing import StandardScaler\n",
    "scaler = StandardScaler().fit(x)\n",
    "x_scaled = scaler.transform(x)\n",
    "kMedoids = KMedoids(n_clusters = 3, random_state = 0)\n",
    "kMedoids.fit(x_scaled)\n",
    "y_kmed = kMedoids.fit_predict(x_scaled)"
   ]
  },
  {
   "cell_type": "code",
   "execution_count": 36,
   "id": "handled-samoa",
   "metadata": {
    "ExecuteTime": {
     "end_time": "2021-07-29T03:45:28.811320Z",
     "start_time": "2021-07-29T03:45:28.804950Z"
    }
   },
   "outputs": [
    {
     "data": {
      "text/plain": [
       "array([2, 2, 2, 2, 2, 2, 2, 2, 2, 2, 2, 2, 2, 2, 2, 2, 2, 2, 2, 2, 2, 2,\n",
       "       2, 2, 2, 2, 2, 2, 2, 2, 2, 2, 2, 2, 2, 2, 2, 2, 2, 2, 2, 2, 2, 2,\n",
       "       2, 2, 2, 2, 2, 2, 1, 0, 1, 0, 1, 0, 1, 0, 1, 0, 0, 0, 0, 0, 0, 1,\n",
       "       0, 0, 0, 0, 0, 0, 0, 0, 0, 1, 1, 1, 0, 0, 0, 0, 0, 0, 0, 0, 1, 0,\n",
       "       0, 0, 0, 0, 0, 0, 0, 0, 0, 0, 0, 0, 1, 0, 1, 1, 1, 1, 0, 1, 1, 1,\n",
       "       1, 1, 1, 0, 0, 1, 1, 1, 1, 0, 1, 0, 1, 1, 1, 1, 0, 0, 1, 1, 1, 1,\n",
       "       1, 1, 1, 1, 1, 1, 0, 1, 1, 1, 0, 1, 1, 1, 1, 1, 1, 0, 1, 1, 1])"
      ]
     },
     "execution_count": 36,
     "metadata": {},
     "output_type": "execute_result"
    }
   ],
   "source": [
    "y_kmed"
   ]
  },
  {
   "cell_type": "code",
   "execution_count": 22,
   "id": "stopped-dressing",
   "metadata": {
    "ExecuteTime": {
     "end_time": "2021-07-28T10:15:58.141655Z",
     "start_time": "2021-07-28T10:15:58.135634Z"
    }
   },
   "outputs": [
    {
     "name": "stdout",
     "output_type": "stream",
     "text": [
      "[0 0 0 0 0 0 0 0 0 0 0 0 0 0 0 0 0 0 0 0 0 0 0 0 0 0 0 0 0 0 0 0 0 0 0 0 0\n",
      " 0 0 0 0 0 0 0 0 0 0 0 0 0 2 2 2 1 1 1 2 1 1 1 1 1 1 1 1 2 1 1 1 1 1 1 1 1\n",
      " 1 2 2 2 1 1 1 1 1 1 1 1 2 1 1 1 1 1 1 1 1 1 1 1 1 1 2 1 2 2 2 2 1 2 2 2 2\n",
      " 2 2 1 1 2 2 2 2 1 2 1 2 1 2 2 1 1 2 2 2 2 2 1 1 2 2 2 1 2 2 2 1 2 2 2 1 2\n",
      " 2 1] 150\n"
     ]
    },
    {
     "data": {
      "text/plain": [
       "131.87877332824286"
      ]
     },
     "execution_count": 22,
     "metadata": {},
     "output_type": "execute_result"
    }
   ],
   "source": [
    "print(y_kmed, len(y_kmed))\n",
    "kMedoids.inertia_"
   ]
  },
  {
   "cell_type": "code",
   "execution_count": 16,
   "id": "worth-allowance",
   "metadata": {
    "ExecuteTime": {
     "end_time": "2021-07-28T10:14:01.352672Z",
     "start_time": "2021-07-28T10:14:01.349552Z"
    }
   },
   "outputs": [],
   "source": [
    "cols = ['Sepal length', 'Sepal width', 'Petal length', 'Petal width']"
   ]
  },
  {
   "cell_type": "code",
   "execution_count": 23,
   "id": "protected-sleeping",
   "metadata": {
    "ExecuteTime": {
     "end_time": "2021-07-28T10:16:02.043702Z",
     "start_time": "2021-07-28T10:16:02.024481Z"
    }
   },
   "outputs": [
    {
     "data": {
      "text/html": [
       "<div>\n",
       "<style scoped>\n",
       "    .dataframe tbody tr th:only-of-type {\n",
       "        vertical-align: middle;\n",
       "    }\n",
       "\n",
       "    .dataframe tbody tr th {\n",
       "        vertical-align: top;\n",
       "    }\n",
       "\n",
       "    .dataframe thead th {\n",
       "        text-align: right;\n",
       "    }\n",
       "</style>\n",
       "<table border=\"1\" class=\"dataframe\">\n",
       "  <thead>\n",
       "    <tr style=\"text-align: right;\">\n",
       "      <th></th>\n",
       "      <th>Cluster_num</th>\n",
       "      <th>Sepal length</th>\n",
       "      <th>Sepal width</th>\n",
       "      <th>Petal length</th>\n",
       "      <th>Petal width</th>\n",
       "    </tr>\n",
       "  </thead>\n",
       "  <tbody>\n",
       "    <tr>\n",
       "      <th>0</th>\n",
       "      <td>0</td>\n",
       "      <td>5.1</td>\n",
       "      <td>3.5</td>\n",
       "      <td>1.4</td>\n",
       "      <td>0.2</td>\n",
       "    </tr>\n",
       "    <tr>\n",
       "      <th>0</th>\n",
       "      <td>0</td>\n",
       "      <td>4.9</td>\n",
       "      <td>3.0</td>\n",
       "      <td>1.4</td>\n",
       "      <td>0.2</td>\n",
       "    </tr>\n",
       "    <tr>\n",
       "      <th>0</th>\n",
       "      <td>0</td>\n",
       "      <td>4.7</td>\n",
       "      <td>3.2</td>\n",
       "      <td>1.3</td>\n",
       "      <td>0.2</td>\n",
       "    </tr>\n",
       "    <tr>\n",
       "      <th>0</th>\n",
       "      <td>0</td>\n",
       "      <td>4.6</td>\n",
       "      <td>3.1</td>\n",
       "      <td>1.5</td>\n",
       "      <td>0.2</td>\n",
       "    </tr>\n",
       "    <tr>\n",
       "      <th>0</th>\n",
       "      <td>0</td>\n",
       "      <td>5.0</td>\n",
       "      <td>3.6</td>\n",
       "      <td>1.4</td>\n",
       "      <td>0.2</td>\n",
       "    </tr>\n",
       "    <tr>\n",
       "      <th>...</th>\n",
       "      <td>...</td>\n",
       "      <td>...</td>\n",
       "      <td>...</td>\n",
       "      <td>...</td>\n",
       "      <td>...</td>\n",
       "    </tr>\n",
       "    <tr>\n",
       "      <th>2</th>\n",
       "      <td>2</td>\n",
       "      <td>6.7</td>\n",
       "      <td>3.0</td>\n",
       "      <td>5.2</td>\n",
       "      <td>2.3</td>\n",
       "    </tr>\n",
       "    <tr>\n",
       "      <th>2</th>\n",
       "      <td>1</td>\n",
       "      <td>6.3</td>\n",
       "      <td>2.5</td>\n",
       "      <td>5.0</td>\n",
       "      <td>1.9</td>\n",
       "    </tr>\n",
       "    <tr>\n",
       "      <th>2</th>\n",
       "      <td>2</td>\n",
       "      <td>6.5</td>\n",
       "      <td>3.0</td>\n",
       "      <td>5.2</td>\n",
       "      <td>2.0</td>\n",
       "    </tr>\n",
       "    <tr>\n",
       "      <th>2</th>\n",
       "      <td>2</td>\n",
       "      <td>6.2</td>\n",
       "      <td>3.4</td>\n",
       "      <td>5.4</td>\n",
       "      <td>2.3</td>\n",
       "    </tr>\n",
       "    <tr>\n",
       "      <th>2</th>\n",
       "      <td>1</td>\n",
       "      <td>5.9</td>\n",
       "      <td>3.0</td>\n",
       "      <td>5.1</td>\n",
       "      <td>1.8</td>\n",
       "    </tr>\n",
       "  </tbody>\n",
       "</table>\n",
       "<p>150 rows × 5 columns</p>\n",
       "</div>"
      ],
      "text/plain": [
       "    Cluster_num  Sepal length  Sepal width  Petal length  Petal width\n",
       "0             0           5.1          3.5           1.4          0.2\n",
       "0             0           4.9          3.0           1.4          0.2\n",
       "0             0           4.7          3.2           1.3          0.2\n",
       "0             0           4.6          3.1           1.5          0.2\n",
       "0             0           5.0          3.6           1.4          0.2\n",
       "..          ...           ...          ...           ...          ...\n",
       "2             2           6.7          3.0           5.2          2.3\n",
       "2             1           6.3          2.5           5.0          1.9\n",
       "2             2           6.5          3.0           5.2          2.0\n",
       "2             2           6.2          3.4           5.4          2.3\n",
       "2             1           5.9          3.0           5.1          1.8\n",
       "\n",
       "[150 rows x 5 columns]"
      ]
     },
     "execution_count": 23,
     "metadata": {},
     "output_type": "execute_result"
    }
   ],
   "source": [
    "data = pd.DataFrame(x,y, columns=cols)\n",
    "data.insert(0, 'Cluster_num', y_kmed)\n",
    "data"
   ]
  },
  {
   "cell_type": "markdown",
   "id": "prompt-sherman",
   "metadata": {},
   "source": [
    "#### Evaluating quality of clusters using silhouette measure"
   ]
  },
  {
   "cell_type": "code",
   "execution_count": 6,
   "id": "musical-guidance",
   "metadata": {
    "ExecuteTime": {
     "end_time": "2021-07-28T09:53:14.061125Z",
     "start_time": "2021-07-28T09:53:14.045469Z"
    }
   },
   "outputs": [
    {
     "name": "stdout",
     "output_type": "stream",
     "text": [
      "0.4590416105554613\n"
     ]
    }
   ],
   "source": [
    "from sklearn.metrics import silhouette_samples, silhouette_score\n",
    "kMedoids = KMedoids(n_clusters = 3, random_state = 0)\n",
    "kMedoids.fit(x_scaled)\n",
    "y_kmed = kMedoids.fit_predict(x_scaled)\n",
    "silhouette_avg = silhouette_score(x_scaled, y_kmed)\n",
    "print(silhouette_avg)"
   ]
  },
  {
   "cell_type": "code",
   "execution_count": 7,
   "id": "empty-commitment",
   "metadata": {
    "ExecuteTime": {
     "end_time": "2021-07-28T09:53:33.026847Z",
     "start_time": "2021-07-28T09:53:33.017245Z"
    }
   },
   "outputs": [
    {
     "name": "stdout",
     "output_type": "stream",
     "text": [
      "0.636330614585637\n",
      "0.3768888598233938\n",
      "0.36213487963471125\n"
     ]
    }
   ],
   "source": [
    "sample_silhouette_values = silhouette_samples(x_scaled, y_kmed)\n",
    "for i in range(3):\n",
    "    ith_cluster_silhouette_values = sample_silhouette_values[y_kmed == i]\n",
    "    print(np.mean(ith_cluster_silhouette_values))"
   ]
  },
  {
   "cell_type": "code",
   "execution_count": 8,
   "id": "naval-gauge",
   "metadata": {
    "ExecuteTime": {
     "end_time": "2021-07-28T09:53:47.914462Z",
     "start_time": "2021-07-28T09:53:47.818732Z"
    }
   },
   "outputs": [],
   "source": [
    "sw = []\n",
    "\n",
    "for i in range(2, 11):\n",
    "    kMedoids = KMedoids(n_clusters = i, random_state = 0)\n",
    "    kMedoids.fit(x_scaled)\n",
    "    y_kmed = kMedoids.fit_predict(x_scaled)\n",
    "    silhouette_avg = silhouette_score(x_scaled, y_kmed)\n",
    "    sw.append(silhouette_avg)\n",
    "    "
   ]
  },
  {
   "cell_type": "code",
   "execution_count": 9,
   "id": "nearby-headquarters",
   "metadata": {
    "ExecuteTime": {
     "end_time": "2021-07-28T09:54:07.350430Z",
     "start_time": "2021-07-28T09:54:07.161680Z"
    }
   },
   "outputs": [
    {
     "data": {
      "image/png": "[encoded data removed]",
      "text/plain": [
       "<Figure size 432x288 with 1 Axes>"
      ]
     },
     "metadata": {
      "needs_background": "light"
     },
     "output_type": "display_data"
    }
   ],
   "source": [
    "plt.plot(range(2, 11), sw)\n",
    "plt.title('Silhoute Score')\n",
    "plt.xlabel('Number of clusters')\n",
    "plt.ylabel('SW')      #within cluster sum of squares\n",
    "plt.show()"
   ]
  },
  {
   "cell_type": "markdown",
   "id": "motivated-lingerie",
   "metadata": {},
   "source": [
    "#### Evaluating quality of clusters using purity"
   ]
  },
  {
   "cell_type": "code",
   "execution_count": 10,
   "id": "collect-therapy",
   "metadata": {
    "ExecuteTime": {
     "end_time": "2021-07-28T09:54:36.105362Z",
     "start_time": "2021-07-28T09:54:36.100912Z"
    }
   },
   "outputs": [],
   "source": [
    "from sklearn import metrics\n",
    "\n",
    "def purity_score(y_true, y_pred):\n",
    "    # compute contingency matrix (also called confusion matrix)\n",
    "    contingency_matrix = metrics.cluster.contingency_matrix(y_true, y_pred)\n",
    "    # return purity\n",
    "    return np.sum(np.amax(contingency_matrix, axis=0)) / np.sum(contingency_matrix)"
   ]
  },
  {
   "cell_type": "code",
   "execution_count": 25,
   "id": "french-volleyball",
   "metadata": {
    "ExecuteTime": {
     "end_time": "2021-07-29T01:32:16.454834Z",
     "start_time": "2021-07-29T01:32:16.416585Z"
    }
   },
   "outputs": [
    {
     "data": {
      "text/plain": [
       "0.8333333333333334"
      ]
     },
     "execution_count": 25,
     "metadata": {},
     "output_type": "execute_result"
    }
   ],
   "source": [
    "kmeans = KMeans(n_clusters = 3, init = 'random', max_iter = 300, n_init = 10, random_state = 0)\n",
    "y_kmeans = kmeans.fit_predict(x_scaled)\n",
    "purity_score(y,y_kmeans)"
   ]
  },
  {
   "cell_type": "code",
   "execution_count": 26,
   "id": "active-hawaii",
   "metadata": {
    "ExecuteTime": {
     "end_time": "2021-07-29T01:32:19.645558Z",
     "start_time": "2021-07-29T01:32:19.339803Z"
    }
   },
   "outputs": [
    {
     "data": {
      "text/plain": [
       "<matplotlib.legend.Legend at 0x7f2de55dcfa0>"
      ]
     },
     "execution_count": 26,
     "metadata": {},
     "output_type": "execute_result"
    },
    {
     "data": {
      "image/png": "[encoded data removed]",
      "text/plain": [
       "<Figure size 432x288 with 1 Axes>"
      ]
     },
     "metadata": {
      "needs_background": "light"
     },
     "output_type": "display_data"
    }
   ],
   "source": [
    "plt.scatter(x_scaled[y_kmeans == 0, 0], x_scaled[y_kmeans == 0, 1], s = 100, c = 'red', label = 'C1')\n",
    "plt.scatter(x_scaled[y_kmeans == 1, 0], x_scaled[y_kmeans == 1, 1], s = 100, c = 'blue', label = 'C2')\n",
    "plt.scatter(x_scaled[y_kmeans == 2, 0], x_scaled[y_kmeans == 2, 1], s = 100, c = 'green', label = 'C3')\n",
    "plt.scatter(kmeans.cluster_centers_[:, 0], kmeans.cluster_centers_[:,1], s = 100, c = 'yellow', label = 'Centroids')\n",
    "plt.legend()"
   ]
  },
  {
   "cell_type": "code",
   "execution_count": 27,
   "id": "changing-format",
   "metadata": {
    "ExecuteTime": {
     "end_time": "2021-07-29T01:33:09.115976Z",
     "start_time": "2021-07-29T01:33:09.102800Z"
    }
   },
   "outputs": [
    {
     "data": {
      "text/plain": [
       "0.84"
      ]
     },
     "execution_count": 27,
     "metadata": {},
     "output_type": "execute_result"
    }
   ],
   "source": [
    "kmedoids = KMedoids(n_clusters=3, random_state=0).fit(x_scaled)\n",
    "y_kmed = kmedoids.fit_predict(x_scaled)\n",
    "purity_score(y,y_kmed)"
   ]
  },
  {
   "cell_type": "code",
   "execution_count": 28,
   "id": "functioning-laptop",
   "metadata": {
    "ExecuteTime": {
     "end_time": "2021-07-29T01:33:18.913270Z",
     "start_time": "2021-07-29T01:33:18.630824Z"
    }
   },
   "outputs": [
    {
     "data": {
      "text/plain": [
       "<matplotlib.legend.Legend at 0x7f2de5421d00>"
      ]
     },
     "execution_count": 28,
     "metadata": {},
     "output_type": "execute_result"
    },
    {
     "data": {
      "image/png": "[encoded data removed]",
      "text/plain": [
       "<Figure size 432x288 with 1 Axes>"
      ]
     },
     "metadata": {
      "needs_background": "light"
     },
     "output_type": "display_data"
    }
   ],
   "source": [
    "plt.scatter(x_scaled[y_kmed == 0, 0], x_scaled[y_kmed == 0, 1], s = 100, c = 'red', label = 'C1')\n",
    "plt.scatter(x_scaled[y_kmed == 1, 0], x_scaled[y_kmed == 1, 1], s = 100, c = 'blue', label = 'C2')\n",
    "plt.scatter(x_scaled[y_kmed == 2, 0], x_scaled[y_kmed == 2, 1], s = 100, c = 'green', label = 'C3')\n",
    "plt.scatter(kmedoids.cluster_centers_[:, 0], kmedoids.cluster_centers_[:,1], s = 100, c = 'yellow', label = 'Centroids')\n",
    "plt.legend()"
   ]
  },
  {
   "cell_type": "markdown",
   "id": "dried-referral",
   "metadata": {},
   "source": [
    "Add extreme values to check sensitivity to outliers"
   ]
  },
  {
   "cell_type": "code",
   "execution_count": 29,
   "id": "surface-jacksonville",
   "metadata": {
    "ExecuteTime": {
     "end_time": "2021-07-29T01:34:08.435781Z",
     "start_time": "2021-07-29T01:34:08.429146Z"
    }
   },
   "outputs": [
    {
     "data": {
      "text/plain": [
       "array([0, 0, 0, 0, 0, 0, 0, 0, 0, 0, 0, 0, 0, 0, 0, 0, 0, 0, 0, 0, 0, 0,\n",
       "       0, 0, 0, 0, 0, 0, 0, 0, 0, 0, 0, 0, 0, 0, 0, 0, 0, 0, 0, 0, 0, 0,\n",
       "       0, 0, 0, 0, 0, 0, 1, 1, 1, 1, 1, 1, 1, 1, 1, 1, 1, 1, 1, 1, 1, 1,\n",
       "       1, 1, 1, 1, 1, 1, 1, 1, 1, 1, 1, 1, 1, 1, 1, 1, 1, 1, 1, 1, 1, 1,\n",
       "       1, 1, 1, 1, 1, 1, 1, 1, 1, 1, 1, 1, 2, 2, 2, 2, 2, 2, 2, 2, 2, 2,\n",
       "       2, 2, 2, 2, 2, 2, 2, 2, 2, 2, 2, 2, 2, 2, 2, 2, 2, 2, 2, 2, 2, 2,\n",
       "       2, 2, 2, 2, 2, 2, 2, 2, 2, 2, 2, 2, 2, 2, 2, 2, 2, 2, 2, 2, 2])"
      ]
     },
     "execution_count": 29,
     "metadata": {},
     "output_type": "execute_result"
    }
   ],
   "source": [
    "import numpy as np\n",
    "m=np.append(x,[[10,10,10,10],[15,15,15,15],[12,12,12,12]],axis=0)\n",
    "m.shape\n",
    "y=np.append(y,[2,2,2])\n",
    "y"
   ]
  },
  {
   "cell_type": "code",
   "execution_count": 30,
   "id": "confidential-macedonia",
   "metadata": {
    "ExecuteTime": {
     "end_time": "2021-07-29T01:34:23.844192Z",
     "start_time": "2021-07-29T01:34:23.839768Z"
    }
   },
   "outputs": [],
   "source": [
    "scaler = StandardScaler().fit(m)\n",
    "x_scaled = scaler.transform(m)"
   ]
  },
  {
   "cell_type": "code",
   "execution_count": 31,
   "id": "adaptive-necklace",
   "metadata": {
    "ExecuteTime": {
     "end_time": "2021-07-29T01:34:32.546266Z",
     "start_time": "2021-07-29T01:34:32.515187Z"
    }
   },
   "outputs": [
    {
     "data": {
      "text/plain": [
       "0.673202614379085"
      ]
     },
     "execution_count": 31,
     "metadata": {},
     "output_type": "execute_result"
    }
   ],
   "source": [
    "kmeans = KMeans(n_clusters = 3, init = 'random', max_iter = 300, n_init = 10, random_state = 0)\n",
    "y_kmeans = kmeans.fit_predict(x_scaled)\n",
    "purity_score(y,y_kmeans)"
   ]
  },
  {
   "cell_type": "code",
   "execution_count": 32,
   "id": "caring-blind",
   "metadata": {
    "ExecuteTime": {
     "end_time": "2021-07-29T01:34:45.776975Z",
     "start_time": "2021-07-29T01:34:45.760760Z"
    }
   },
   "outputs": [
    {
     "data": {
      "text/plain": [
       "0.8627450980392157"
      ]
     },
     "execution_count": 32,
     "metadata": {},
     "output_type": "execute_result"
    }
   ],
   "source": [
    "kmedoids = KMedoids(n_clusters=3, random_state=0).fit(x_scaled)\n",
    "y_kmed = kmedoids.fit_predict(x_scaled)\n",
    "purity_score(y,y_kmed)"
   ]
  },
  {
   "cell_type": "code",
   "execution_count": 34,
   "id": "optional-virtue",
   "metadata": {
    "ExecuteTime": {
     "end_time": "2021-07-29T01:35:26.619119Z",
     "start_time": "2021-07-29T01:35:26.431184Z"
    }
   },
   "outputs": [
    {
     "data": {
      "text/plain": [
       "<AxesSubplot:title={'center':'Cluster Quality'}, xlabel='Method'>"
      ]
     },
     "execution_count": 34,
     "metadata": {},
     "output_type": "execute_result"
    },
    {
     "data": {
      "image/png": "[encoded data removed]",
      "text/plain": [
       "<Figure size 432x288 with 1 Axes>"
      ]
     },
     "metadata": {
      "needs_background": "light"
     },
     "output_type": "display_data"
    }
   ],
   "source": [
    "data = [['k-Means', 0.81], ['k-Means with Outliers', 0.67], ['k-Medoid', 0.84],['K Medoid with outliers', 0.86]] \n",
    "df = pd.DataFrame(data, columns = ['Method', 'Purity']) \n",
    "df.plot.bar(x='Method',y='Purity',title='Cluster Quality')"
   ]
  },
  {
   "cell_type": "code",
   "execution_count": null,
   "id": "settled-foundation",
   "metadata": {},
   "outputs": [],
   "source": []
  },
  {
   "cell_type": "code",
   "execution_count": null,
   "id": "light-courage",
   "metadata": {},
   "outputs": [],
   "source": []
  }
 ],
 "metadata": {
  "kernelspec": {
   "display_name": "Python 3",
   "language": "python",
   "name": "python3"
  },
  "language_info": {
   "codemirror_mode": {
    "name": "ipython",
    "version": 3
   },
   "file_extension": ".py",
   "mimetype": "text/x-python",
   "name": "python",
   "nbconvert_exporter": "python",
   "pygments_lexer": "ipython3",
   "version": "3.8.8"
  }
 },
 "nbformat": 4,
 "nbformat_minor": 5
}
