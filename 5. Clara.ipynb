{
 "cells": [
  {
   "cell_type": "markdown",
   "id": "interesting-overall",
   "metadata": {},
   "source": [
    "# Clara"
   ]
  },
  {
   "cell_type": "markdown",
   "id": "dedicated-nurse",
   "metadata": {},
   "source": [
    "Clara uses the same as k-medoid. However, it draws multiple samples of the whole data are chosen randomly as the representation of the data. Then k-mediods algorithm is done by selecting medoids of each sample and return the best clustering as the output. A major disadvantage is that the result is highly dependent on the sample size chosen.\n",
    "\n",
    "#### Reference: \n",
    "The notebook is following the process in Kaggle but is much simpler and uses sklearn_extra.\n",
    "1. https://www.kaggle.com/saptarsi/kmedoid-sg/notebook\n",
    "2. https://github.com/scikit-learn-contrib/scikit-learn-extra/archive/master.zip "
   ]
  },
  {
   "cell_type": "code",
   "execution_count": 51,
   "id": "surprised-noise",
   "metadata": {
    "ExecuteTime": {
     "end_time": "2021-07-28T09:29:18.632926Z",
     "start_time": "2021-07-28T09:29:12.549358Z"
    }
   },
   "outputs": [
    {
     "name": "stdout",
     "output_type": "stream",
     "text": [
      "Defaulting to user installation because normal site-packages is not writeable\n",
      "Collecting scikit-learn-extra\n",
      "  Downloading scikit_learn_extra-0.2.0-cp38-cp38-manylinux2010_x86_64.whl (1.9 MB)\n",
      "\u001b[K     |████████████████████████████████| 1.9 MB 2.3 MB/s eta 0:00:01\n",
      "\u001b[?25hRequirement already satisfied: scipy>=0.19.1 in /opt/conda/lib/python3.8/site-packages (from scikit-learn-extra) (1.6.1)\n",
      "Requirement already satisfied: scikit-learn>=0.23.0 in /opt/conda/lib/python3.8/site-packages (from scikit-learn-extra) (0.24.1)\n",
      "Requirement already satisfied: numpy>=1.13.3 in /opt/conda/lib/python3.8/site-packages (from scikit-learn-extra) (1.19.5)\n",
      "Requirement already satisfied: joblib>=0.11 in /opt/conda/lib/python3.8/site-packages (from scikit-learn>=0.23.0->scikit-learn-extra) (1.0.1)\n",
      "Requirement already satisfied: threadpoolctl>=2.0.0 in /opt/conda/lib/python3.8/site-packages (from scikit-learn>=0.23.0->scikit-learn-extra) (2.1.0)\n",
      "Installing collected packages: scikit-learn-extra\n",
      "Successfully installed scikit-learn-extra-0.2.0\n",
      "Note: you may need to restart the kernel to use updated packages.\n"
     ]
    }
   ],
   "source": [
    "pip install scikit-learn-extra"
   ]
  },
  {
   "cell_type": "code",
   "execution_count": 65,
   "id": "blond-airfare",
   "metadata": {
    "ExecuteTime": {
     "end_time": "2021-07-29T01:37:13.801048Z",
     "start_time": "2021-07-29T01:37:13.795790Z"
    }
   },
   "outputs": [],
   "source": [
    "# This Python 3 environment comes with many helpful analytics libraries installed\n",
    "# !pip install scikit-learn-extra\n",
    "\n",
    "import numpy as np \n",
    "import pandas as pd \n",
    "import matplotlib.pyplot as plt\n",
    "import random\n",
    "from sklearn.preprocessing import StandardScaler\n",
    "from sklearn_extra.cluster import KMedoids\n",
    "\n",
    "from sklearn import metrics\n"
   ]
  },
  {
   "cell_type": "code",
   "execution_count": 201,
   "id": "whole-aquarium",
   "metadata": {
    "ExecuteTime": {
     "end_time": "2021-07-29T07:51:53.201372Z",
     "start_time": "2021-07-29T07:51:52.856504Z"
    }
   },
   "outputs": [
    {
     "data": {
      "text/plain": [
       "(18483, 50)"
      ]
     },
     "execution_count": 201,
     "metadata": {},
     "output_type": "execute_result"
    }
   ],
   "source": [
    "df = pd.read_csv('players_20.csv')\n",
    "col_list = np.r_[4:5, 6:8, 10:14, 16:19, 22:23, 31:43, 45:78]\n",
    "df_numeric = df.iloc[:, col_list]\n",
    "df_numeric = df_numeric.fillna(0)\n",
    "df = df_numeric\n",
    "# df.drop(['Unnamed: 0'], inplace=True, axis=1)\n",
    "# df.drop(['goalkeeping_diving'], inplace=True, axis=1)\n",
    "# df.drop(['goalkeeping_handling'], inplace=True, axis=1)\n",
    "# df.drop(['goalkeeping_kicking'], inplace=True, axis=1)\n",
    "df.drop(['league_name', 'body_type'], inplace=True, axis=1)\n",
    "df.drop(['player_positions','preferred_foot'], inplace=True, axis=1)\n",
    "df.drop(['nation_position'], inplace=True, axis=1)\n",
    "df.drop(['player_traits'], inplace=True, axis=1) #'work_rate','body_type', 'real_face', 'player_tags', 'team_position',\n",
    "\n",
    "df.shape\n",
    "\n"
   ]
  },
  {
   "cell_type": "code",
   "execution_count": 67,
   "id": "worthy-master",
   "metadata": {
    "ExecuteTime": {
     "end_time": "2021-07-29T01:37:27.787477Z",
     "start_time": "2021-07-29T01:37:27.783024Z"
    }
   },
   "outputs": [
    {
     "name": "stdout",
     "output_type": "stream",
     "text": [
      "Index(['age', 'height_cm', 'weight_kg', 'league_rank', 'overall', 'potential',\n",
      "       'international_reputation', 'nation_jersey_number', 'pace', 'shooting',\n",
      "       'passing', 'dribbling', 'defending', 'physic', 'gk_diving',\n",
      "       'gk_handling', 'gk_kicking', 'gk_reflexes', 'attacking_crossing',\n",
      "       'attacking_finishing', 'attacking_heading_accuracy',\n",
      "       'attacking_short_passing', 'attacking_volleys', 'skill_dribbling',\n",
      "       'skill_curve', 'skill_fk_accuracy', 'skill_long_passing',\n",
      "       'skill_ball_control', 'movement_acceleration', 'movement_sprint_speed',\n",
      "       'movement_agility', 'movement_reactions', 'movement_balance',\n",
      "       'power_shot_power', 'power_jumping', 'power_stamina', 'power_strength',\n",
      "       'power_long_shots', 'mentality_aggression', 'mentality_interceptions',\n",
      "       'mentality_positioning', 'mentality_vision', 'mentality_penalties',\n",
      "       'mentality_composure', 'defending_marking', 'defending_standing_tackle',\n",
      "       'defending_sliding_tackle', 'goalkeeping_diving',\n",
      "       'goalkeeping_handling', 'goalkeeping_kicking'],\n",
      "      dtype='object')\n"
     ]
    }
   ],
   "source": [
    "print(df.columns)"
   ]
  },
  {
   "cell_type": "code",
   "execution_count": 68,
   "id": "multiple-employer",
   "metadata": {
    "ExecuteTime": {
     "end_time": "2021-07-29T01:37:30.613691Z",
     "start_time": "2021-07-29T01:37:30.252866Z"
    },
    "scrolled": true
   },
   "outputs": [
    {
     "data": {
      "image/png": "[encoded data removed]",
      "text/plain": [
       "<Figure size 432x288 with 1 Axes>"
      ]
     },
     "metadata": {
      "needs_background": "light"
     },
     "output_type": "display_data"
    }
   ],
   "source": [
    "from sklearn.decomposition import PCA\n",
    "# Standardize the data to have a mean of ~0 and a variance of 1\n",
    "X_std = StandardScaler().fit_transform(df)\n",
    "\n",
    "# Create a PCA instance: pca\n",
    "pca = PCA(n_components=0.95)\n",
    "principalComponents = pca.fit_transform(X_std)\n",
    "# Plot the explained variances\n",
    "features = range(pca.n_components_)\n",
    "plt.bar(features, pca.explained_variance_ratio_, color='black')\n",
    "plt.xlabel('PCA features')\n",
    "plt.ylabel('variance %')\n",
    "plt.xticks(features)\n",
    "# Save components to a DataFrame\n",
    "PCA_components = pd.DataFrame(principalComponents)"
   ]
  },
  {
   "cell_type": "code",
   "execution_count": 42,
   "id": "handed-zambia",
   "metadata": {
    "ExecuteTime": {
     "end_time": "2021-07-28T09:23:35.620897Z",
     "start_time": "2021-07-28T09:23:35.291053Z"
    }
   },
   "outputs": [
    {
     "data": {
      "text/plain": [
       "age                               0\n",
       "height_cm                         0\n",
       "weight_kg                         0\n",
       "league_name                     240\n",
       "league_rank                     240\n",
       "overall                           0\n",
       "potential                         0\n",
       "player_positions                  0\n",
       "preferred_foot                    0\n",
       "international_reputation          0\n",
       "body_type                         0\n",
       "nation_position               17356\n",
       "nation_jersey_number          17356\n",
       "pace                           2061\n",
       "shooting                       2061\n",
       "passing                        2061\n",
       "dribbling                      2061\n",
       "defending                      2061\n",
       "physic                         2061\n",
       "gk_diving                     16422\n",
       "gk_handling                   16422\n",
       "gk_kicking                    16422\n",
       "gk_reflexes                   16422\n",
       "player_traits                 10936\n",
       "attacking_crossing                0\n",
       "attacking_finishing               0\n",
       "attacking_heading_accuracy        0\n",
       "attacking_short_passing           0\n",
       "attacking_volleys                 0\n",
       "skill_dribbling                   0\n",
       "skill_curve                       0\n",
       "skill_fk_accuracy                 0\n",
       "skill_long_passing                0\n",
       "skill_ball_control                0\n",
       "movement_acceleration             0\n",
       "movement_sprint_speed             0\n",
       "movement_agility                  0\n",
       "movement_reactions                0\n",
       "movement_balance                  0\n",
       "power_shot_power                  0\n",
       "power_jumping                     0\n",
       "power_stamina                     0\n",
       "power_strength                    0\n",
       "power_long_shots                  0\n",
       "mentality_aggression              0\n",
       "mentality_interceptions           0\n",
       "mentality_positioning             0\n",
       "mentality_vision                  0\n",
       "mentality_penalties               0\n",
       "mentality_composure               0\n",
       "defending_marking             18483\n",
       "defending_standing_tackle         0\n",
       "defending_sliding_tackle          0\n",
       "goalkeeping_diving                0\n",
       "goalkeeping_handling              0\n",
       "goalkeeping_kicking               0\n",
       "dtype: int64"
      ]
     },
     "execution_count": 42,
     "metadata": {},
     "output_type": "execute_result"
    }
   ],
   "source": [
    "dtaf = pd.read_csv('players_20.csv')\n",
    "\n",
    "col_list = np.r_[4:5, 6:8, 10:14, 16:19, 22:23, 31:43, 45:78]\n",
    "dtaf = dtaf.iloc[:, col_list]\n",
    "dtaf.isna().sum() "
   ]
  },
  {
   "cell_type": "code",
   "execution_count": 202,
   "id": "large-breach",
   "metadata": {
    "ExecuteTime": {
     "end_time": "2021-07-29T07:51:59.941662Z",
     "start_time": "2021-07-29T07:51:59.926481Z"
    }
   },
   "outputs": [],
   "source": [
    "df_o = df[df['shooting']==0]\n",
    "# print('DFO:', df_o)\n",
    "scaler = StandardScaler()\n",
    "\n",
    "# transform data\n",
    "scaled = scaler.fit_transform(df_o)\n",
    "# print(scaled)\n",
    "\n",
    "# df_gk = df[df['gk_speed']!=0]\n",
    "shape = df_o.shape[0]\n",
    "# print(shape)\n"
   ]
  },
  {
   "cell_type": "code",
   "execution_count": 83,
   "id": "integral-romantic",
   "metadata": {
    "ExecuteTime": {
     "end_time": "2021-07-29T01:48:04.286950Z",
     "start_time": "2021-07-29T01:48:04.282796Z"
    }
   },
   "outputs": [
    {
     "data": {
      "text/plain": [
       "numpy.ndarray"
      ]
     },
     "execution_count": 83,
     "metadata": {},
     "output_type": "execute_result"
    }
   ],
   "source": [
    "type(scaled)"
   ]
  },
  {
   "cell_type": "code",
   "execution_count": 203,
   "id": "filled-suspect",
   "metadata": {
    "ExecuteTime": {
     "end_time": "2021-07-29T07:52:05.880142Z",
     "start_time": "2021-07-29T07:52:04.767924Z"
    }
   },
   "outputs": [
    {
     "name": "stdout",
     "output_type": "stream",
     "text": [
      "K:  2\n",
      "run:  0\n",
      "new cost:  4123.273068057416\n",
      "new silhouette:  0.18469963847966833\n",
      "run:  1\n",
      "new cost:  4045.193584095015\n",
      "new silhouette:  0.19925014106356542\n",
      "run:  2\n",
      "run:  3\n",
      "run:  4\n",
      "new cost:  3691.9086913858855\n",
      "new silhouette:  0.3940695900064847\n",
      "best cluster cost:  3691.9086913858855\n",
      "best silhoutte value:  0.3940695900064847\n",
      "K:  3\n",
      "run:  0\n",
      "run:  1\n",
      "new cost:  2906.6563605966576\n",
      "new silhouette:  0.39391312102044707\n",
      "run:  2\n",
      "run:  3\n",
      "run:  4\n",
      "best cluster cost:  2906.6563605966576\n",
      "best silhoutte value:  0.39391312102044707\n",
      "K:  4\n",
      "run:  0\n",
      "run:  1\n",
      "run:  2\n",
      "run:  3\n",
      "run:  4\n",
      "new cost:  2396.111008601232\n",
      "new silhouette:  0.4189756293291221\n",
      "best cluster cost:  2396.111008601232\n",
      "best silhoutte value:  0.4189756293291221\n",
      "K:  5\n",
      "run:  0\n",
      "run:  1\n",
      "run:  2\n",
      "run:  3\n",
      "run:  4\n",
      "best cluster cost:  2396.111008601232\n",
      "best silhoutte value:  0.4189756293291221\n",
      "K:  6\n",
      "run:  0\n",
      "run:  1\n",
      "run:  2\n",
      "run:  3\n",
      "run:  4\n",
      "best cluster cost:  2396.111008601232\n",
      "best silhoutte value:  0.4189756293291221\n",
      "K:  7\n",
      "run:  0\n",
      "run:  1\n",
      "run:  2\n",
      "run:  3\n",
      "run:  4\n",
      "best cluster cost:  2396.111008601232\n",
      "best silhoutte value:  0.4189756293291221\n",
      "K:  8\n",
      "run:  0\n",
      "run:  1\n",
      "run:  2\n",
      "run:  3\n",
      "run:  4\n",
      "best cluster cost:  2396.111008601232\n",
      "best silhoutte value:  0.4189756293291221\n",
      "K:  9\n",
      "run:  0\n",
      "run:  1\n",
      "run:  2\n",
      "run:  3\n",
      "run:  4\n",
      "best cluster cost:  2396.111008601232\n",
      "best silhoutte value:  0.4189756293291221\n",
      "best_sw [0.3940695900064847, 0.39391312102044707, 0.4189756293291221, 0.4189756293291221, 0.4189756293291221, 0.4189756293291221, 0.4189756293291221, 0.4189756293291221] \n",
      " best_cost: [3691.9086913858855, 2906.6563605966576, 2396.111008601232, 2396.111008601232, 2396.111008601232, 2396.111008601232, 2396.111008601232, 2396.111008601232]\n"
     ]
    }
   ],
   "source": [
    "size = len(df)\n",
    "# k=3\n",
    "\n",
    "min_avg_cost = np.inf\n",
    "min_avg_sil = np.inf\n",
    "\n",
    "best_sw=[]\n",
    "best_cost=[]\n",
    "\n",
    "k_vals = [i for i in range(8)]\n",
    "\n",
    "for k in range(2, 10, 1):\n",
    "    print('K: ', k)\n",
    "    runs=5\n",
    "    for r in range(runs):\n",
    "        print('run: ', r)\n",
    "\n",
    "        sampling_idx = random.sample([i for i in range(1000)], (40+k*2))\n",
    "#         type(sampling_idx)\n",
    "#         print(sampling_idx)\n",
    "        sample = []\n",
    "\n",
    "        # idx = sampling_idx[0]\n",
    "        # print(idx)\n",
    "        # print(df.iloc[idx])\n",
    "        for idx in sampling_idx:\n",
    "            sample.append(df.iloc[idx])\n",
    "\n",
    "        sampled_df = pd.DataFrame(sample)\n",
    "        sampled_df.shape\n",
    "        kMedoids = KMedoids(n_clusters = k, random_state = 1338)\n",
    "        kMedoids.fit(sampled_df)\n",
    "        y_kmed = kMedoids.fit_predict(sampled_df)\n",
    "#         print(y_kmed)\n",
    "        tmp_cost_sample = kMedoids.inertia_\n",
    "        tmp_center = kMedoids.cluster_centers_\n",
    "        tem_center_index = kMedoids.medoid_indices_\n",
    "\n",
    "        from sklearn.metrics import silhouette_samples, silhouette_score\n",
    "        tmp_silhouette_avg = silhouette_score(sampled_df, y_kmed)\n",
    "#         print(tmp_cost_sample, tmp_silhouette_avg)\n",
    "\n",
    "        if tmp_cost_sample < min_avg_cost: # and tmp_silhouette_avg <= min_avg_sil:\n",
    "            min_avg_cost = tmp_cost_sample\n",
    "            min_avg_sil = tmp_silhouette_avg\n",
    "            print(\"new cost: \", min_avg_cost)\n",
    "            print(\"new silhouette: \", min_avg_sil)\n",
    "            new_center = tmp_center\n",
    "\n",
    "    print('best cluster cost: ', min_avg_cost)\n",
    "    print('best silhoutte value: ', min_avg_sil )\n",
    "    # print('best center: ', new_center)\n",
    "    best_sw.append(min_avg_sil)\n",
    "    best_cost.append(min_avg_cost)\n",
    "print('best_sw', best_sw, \"\\n\", 'best_cost:', best_cost)"
   ]
  },
  {
   "cell_type": "code",
   "execution_count": 204,
   "id": "immune-reggae",
   "metadata": {
    "ExecuteTime": {
     "end_time": "2021-07-29T07:52:11.383386Z",
     "start_time": "2021-07-29T07:52:11.198708Z"
    }
   },
   "outputs": [
    {
     "data": {
      "image/png": "[encoded data removed]",
      "text/plain": [
       "<Figure size 432x288 with 1 Axes>"
      ]
     },
     "metadata": {
      "needs_background": "light"
     },
     "output_type": "display_data"
    }
   ],
   "source": [
    "plt.plot(range(2, 10), best_cost)\n",
    "# plt.title('Cost')\n",
    "plt.xlabel('Number of clusters, k')\n",
    "plt.ylabel('SSE')      #within cluster sum of squares\n",
    "plt.show()"
   ]
  },
  {
   "cell_type": "code",
   "execution_count": 205,
   "id": "valid-accreditation",
   "metadata": {
    "ExecuteTime": {
     "end_time": "2021-07-29T07:52:12.462053Z",
     "start_time": "2021-07-29T07:52:12.297938Z"
    }
   },
   "outputs": [
    {
     "data": {
      "image/png": "[encoded data removed]",
      "text/plain": [
       "<Figure size 432x288 with 1 Axes>"
      ]
     },
     "metadata": {
      "needs_background": "light"
     },
     "output_type": "display_data"
    }
   ],
   "source": [
    "plt.plot(range(2, 10), best_sw)\n",
    "plt.title('Silhoute Score')\n",
    "plt.xlabel('Number of clusters')\n",
    "plt.ylabel('SW')      #within cluster sum of squares\n",
    "plt.show()"
   ]
  },
  {
   "cell_type": "markdown",
   "id": "wired-bookmark",
   "metadata": {},
   "source": [
    "Now we try Clara on breast cancer data set."
   ]
  },
  {
   "cell_type": "code",
   "execution_count": 171,
   "id": "colored-silence",
   "metadata": {
    "ExecuteTime": {
     "end_time": "2021-07-29T07:28:00.798442Z",
     "start_time": "2021-07-29T07:28:00.745658Z"
    }
   },
   "outputs": [
    {
     "data": {
      "text/html": [
       "<div>\n",
       "<style scoped>\n",
       "    .dataframe tbody tr th:only-of-type {\n",
       "        vertical-align: middle;\n",
       "    }\n",
       "\n",
       "    .dataframe tbody tr th {\n",
       "        vertical-align: top;\n",
       "    }\n",
       "\n",
       "    .dataframe thead th {\n",
       "        text-align: right;\n",
       "    }\n",
       "</style>\n",
       "<table border=\"1\" class=\"dataframe\">\n",
       "  <thead>\n",
       "    <tr style=\"text-align: right;\">\n",
       "      <th></th>\n",
       "      <th>mean radius</th>\n",
       "      <th>mean texture</th>\n",
       "      <th>mean perimeter</th>\n",
       "      <th>mean area</th>\n",
       "      <th>mean smoothness</th>\n",
       "      <th>mean compactness</th>\n",
       "      <th>mean concavity</th>\n",
       "      <th>mean concave points</th>\n",
       "      <th>mean symmetry</th>\n",
       "      <th>mean fractal dimension</th>\n",
       "      <th>...</th>\n",
       "      <th>worst texture</th>\n",
       "      <th>worst perimeter</th>\n",
       "      <th>worst area</th>\n",
       "      <th>worst smoothness</th>\n",
       "      <th>worst compactness</th>\n",
       "      <th>worst concavity</th>\n",
       "      <th>worst concave points</th>\n",
       "      <th>worst symmetry</th>\n",
       "      <th>worst fractal dimension</th>\n",
       "      <th>target</th>\n",
       "    </tr>\n",
       "  </thead>\n",
       "  <tbody>\n",
       "    <tr>\n",
       "      <th>0</th>\n",
       "      <td>17.99</td>\n",
       "      <td>10.38</td>\n",
       "      <td>122.80</td>\n",
       "      <td>1001.0</td>\n",
       "      <td>0.11840</td>\n",
       "      <td>0.27760</td>\n",
       "      <td>0.30010</td>\n",
       "      <td>0.14710</td>\n",
       "      <td>0.2419</td>\n",
       "      <td>0.07871</td>\n",
       "      <td>...</td>\n",
       "      <td>17.33</td>\n",
       "      <td>184.60</td>\n",
       "      <td>2019.0</td>\n",
       "      <td>0.16220</td>\n",
       "      <td>0.66560</td>\n",
       "      <td>0.7119</td>\n",
       "      <td>0.2654</td>\n",
       "      <td>0.4601</td>\n",
       "      <td>0.11890</td>\n",
       "      <td>0</td>\n",
       "    </tr>\n",
       "    <tr>\n",
       "      <th>1</th>\n",
       "      <td>20.57</td>\n",
       "      <td>17.77</td>\n",
       "      <td>132.90</td>\n",
       "      <td>1326.0</td>\n",
       "      <td>0.08474</td>\n",
       "      <td>0.07864</td>\n",
       "      <td>0.08690</td>\n",
       "      <td>0.07017</td>\n",
       "      <td>0.1812</td>\n",
       "      <td>0.05667</td>\n",
       "      <td>...</td>\n",
       "      <td>23.41</td>\n",
       "      <td>158.80</td>\n",
       "      <td>1956.0</td>\n",
       "      <td>0.12380</td>\n",
       "      <td>0.18660</td>\n",
       "      <td>0.2416</td>\n",
       "      <td>0.1860</td>\n",
       "      <td>0.2750</td>\n",
       "      <td>0.08902</td>\n",
       "      <td>0</td>\n",
       "    </tr>\n",
       "    <tr>\n",
       "      <th>2</th>\n",
       "      <td>19.69</td>\n",
       "      <td>21.25</td>\n",
       "      <td>130.00</td>\n",
       "      <td>1203.0</td>\n",
       "      <td>0.10960</td>\n",
       "      <td>0.15990</td>\n",
       "      <td>0.19740</td>\n",
       "      <td>0.12790</td>\n",
       "      <td>0.2069</td>\n",
       "      <td>0.05999</td>\n",
       "      <td>...</td>\n",
       "      <td>25.53</td>\n",
       "      <td>152.50</td>\n",
       "      <td>1709.0</td>\n",
       "      <td>0.14440</td>\n",
       "      <td>0.42450</td>\n",
       "      <td>0.4504</td>\n",
       "      <td>0.2430</td>\n",
       "      <td>0.3613</td>\n",
       "      <td>0.08758</td>\n",
       "      <td>0</td>\n",
       "    </tr>\n",
       "    <tr>\n",
       "      <th>3</th>\n",
       "      <td>11.42</td>\n",
       "      <td>20.38</td>\n",
       "      <td>77.58</td>\n",
       "      <td>386.1</td>\n",
       "      <td>0.14250</td>\n",
       "      <td>0.28390</td>\n",
       "      <td>0.24140</td>\n",
       "      <td>0.10520</td>\n",
       "      <td>0.2597</td>\n",
       "      <td>0.09744</td>\n",
       "      <td>...</td>\n",
       "      <td>26.50</td>\n",
       "      <td>98.87</td>\n",
       "      <td>567.7</td>\n",
       "      <td>0.20980</td>\n",
       "      <td>0.86630</td>\n",
       "      <td>0.6869</td>\n",
       "      <td>0.2575</td>\n",
       "      <td>0.6638</td>\n",
       "      <td>0.17300</td>\n",
       "      <td>0</td>\n",
       "    </tr>\n",
       "    <tr>\n",
       "      <th>4</th>\n",
       "      <td>20.29</td>\n",
       "      <td>14.34</td>\n",
       "      <td>135.10</td>\n",
       "      <td>1297.0</td>\n",
       "      <td>0.10030</td>\n",
       "      <td>0.13280</td>\n",
       "      <td>0.19800</td>\n",
       "      <td>0.10430</td>\n",
       "      <td>0.1809</td>\n",
       "      <td>0.05883</td>\n",
       "      <td>...</td>\n",
       "      <td>16.67</td>\n",
       "      <td>152.20</td>\n",
       "      <td>1575.0</td>\n",
       "      <td>0.13740</td>\n",
       "      <td>0.20500</td>\n",
       "      <td>0.4000</td>\n",
       "      <td>0.1625</td>\n",
       "      <td>0.2364</td>\n",
       "      <td>0.07678</td>\n",
       "      <td>0</td>\n",
       "    </tr>\n",
       "    <tr>\n",
       "      <th>...</th>\n",
       "      <td>...</td>\n",
       "      <td>...</td>\n",
       "      <td>...</td>\n",
       "      <td>...</td>\n",
       "      <td>...</td>\n",
       "      <td>...</td>\n",
       "      <td>...</td>\n",
       "      <td>...</td>\n",
       "      <td>...</td>\n",
       "      <td>...</td>\n",
       "      <td>...</td>\n",
       "      <td>...</td>\n",
       "      <td>...</td>\n",
       "      <td>...</td>\n",
       "      <td>...</td>\n",
       "      <td>...</td>\n",
       "      <td>...</td>\n",
       "      <td>...</td>\n",
       "      <td>...</td>\n",
       "      <td>...</td>\n",
       "      <td>...</td>\n",
       "    </tr>\n",
       "    <tr>\n",
       "      <th>564</th>\n",
       "      <td>21.56</td>\n",
       "      <td>22.39</td>\n",
       "      <td>142.00</td>\n",
       "      <td>1479.0</td>\n",
       "      <td>0.11100</td>\n",
       "      <td>0.11590</td>\n",
       "      <td>0.24390</td>\n",
       "      <td>0.13890</td>\n",
       "      <td>0.1726</td>\n",
       "      <td>0.05623</td>\n",
       "      <td>...</td>\n",
       "      <td>26.40</td>\n",
       "      <td>166.10</td>\n",
       "      <td>2027.0</td>\n",
       "      <td>0.14100</td>\n",
       "      <td>0.21130</td>\n",
       "      <td>0.4107</td>\n",
       "      <td>0.2216</td>\n",
       "      <td>0.2060</td>\n",
       "      <td>0.07115</td>\n",
       "      <td>0</td>\n",
       "    </tr>\n",
       "    <tr>\n",
       "      <th>565</th>\n",
       "      <td>20.13</td>\n",
       "      <td>28.25</td>\n",
       "      <td>131.20</td>\n",
       "      <td>1261.0</td>\n",
       "      <td>0.09780</td>\n",
       "      <td>0.10340</td>\n",
       "      <td>0.14400</td>\n",
       "      <td>0.09791</td>\n",
       "      <td>0.1752</td>\n",
       "      <td>0.05533</td>\n",
       "      <td>...</td>\n",
       "      <td>38.25</td>\n",
       "      <td>155.00</td>\n",
       "      <td>1731.0</td>\n",
       "      <td>0.11660</td>\n",
       "      <td>0.19220</td>\n",
       "      <td>0.3215</td>\n",
       "      <td>0.1628</td>\n",
       "      <td>0.2572</td>\n",
       "      <td>0.06637</td>\n",
       "      <td>0</td>\n",
       "    </tr>\n",
       "    <tr>\n",
       "      <th>566</th>\n",
       "      <td>16.60</td>\n",
       "      <td>28.08</td>\n",
       "      <td>108.30</td>\n",
       "      <td>858.1</td>\n",
       "      <td>0.08455</td>\n",
       "      <td>0.10230</td>\n",
       "      <td>0.09251</td>\n",
       "      <td>0.05302</td>\n",
       "      <td>0.1590</td>\n",
       "      <td>0.05648</td>\n",
       "      <td>...</td>\n",
       "      <td>34.12</td>\n",
       "      <td>126.70</td>\n",
       "      <td>1124.0</td>\n",
       "      <td>0.11390</td>\n",
       "      <td>0.30940</td>\n",
       "      <td>0.3403</td>\n",
       "      <td>0.1418</td>\n",
       "      <td>0.2218</td>\n",
       "      <td>0.07820</td>\n",
       "      <td>0</td>\n",
       "    </tr>\n",
       "    <tr>\n",
       "      <th>567</th>\n",
       "      <td>20.60</td>\n",
       "      <td>29.33</td>\n",
       "      <td>140.10</td>\n",
       "      <td>1265.0</td>\n",
       "      <td>0.11780</td>\n",
       "      <td>0.27700</td>\n",
       "      <td>0.35140</td>\n",
       "      <td>0.15200</td>\n",
       "      <td>0.2397</td>\n",
       "      <td>0.07016</td>\n",
       "      <td>...</td>\n",
       "      <td>39.42</td>\n",
       "      <td>184.60</td>\n",
       "      <td>1821.0</td>\n",
       "      <td>0.16500</td>\n",
       "      <td>0.86810</td>\n",
       "      <td>0.9387</td>\n",
       "      <td>0.2650</td>\n",
       "      <td>0.4087</td>\n",
       "      <td>0.12400</td>\n",
       "      <td>0</td>\n",
       "    </tr>\n",
       "    <tr>\n",
       "      <th>568</th>\n",
       "      <td>7.76</td>\n",
       "      <td>24.54</td>\n",
       "      <td>47.92</td>\n",
       "      <td>181.0</td>\n",
       "      <td>0.05263</td>\n",
       "      <td>0.04362</td>\n",
       "      <td>0.00000</td>\n",
       "      <td>0.00000</td>\n",
       "      <td>0.1587</td>\n",
       "      <td>0.05884</td>\n",
       "      <td>...</td>\n",
       "      <td>30.37</td>\n",
       "      <td>59.16</td>\n",
       "      <td>268.6</td>\n",
       "      <td>0.08996</td>\n",
       "      <td>0.06444</td>\n",
       "      <td>0.0000</td>\n",
       "      <td>0.0000</td>\n",
       "      <td>0.2871</td>\n",
       "      <td>0.07039</td>\n",
       "      <td>1</td>\n",
       "    </tr>\n",
       "  </tbody>\n",
       "</table>\n",
       "<p>569 rows × 31 columns</p>\n",
       "</div>"
      ],
      "text/plain": [
       "     mean radius  mean texture  mean perimeter  mean area  mean smoothness  \\\n",
       "0          17.99         10.38          122.80     1001.0          0.11840   \n",
       "1          20.57         17.77          132.90     1326.0          0.08474   \n",
       "2          19.69         21.25          130.00     1203.0          0.10960   \n",
       "3          11.42         20.38           77.58      386.1          0.14250   \n",
       "4          20.29         14.34          135.10     1297.0          0.10030   \n",
       "..           ...           ...             ...        ...              ...   \n",
       "564        21.56         22.39          142.00     1479.0          0.11100   \n",
       "565        20.13         28.25          131.20     1261.0          0.09780   \n",
       "566        16.60         28.08          108.30      858.1          0.08455   \n",
       "567        20.60         29.33          140.10     1265.0          0.11780   \n",
       "568         7.76         24.54           47.92      181.0          0.05263   \n",
       "\n",
       "     mean compactness  mean concavity  mean concave points  mean symmetry  \\\n",
       "0             0.27760         0.30010              0.14710         0.2419   \n",
       "1             0.07864         0.08690              0.07017         0.1812   \n",
       "2             0.15990         0.19740              0.12790         0.2069   \n",
       "3             0.28390         0.24140              0.10520         0.2597   \n",
       "4             0.13280         0.19800              0.10430         0.1809   \n",
       "..                ...             ...                  ...            ...   \n",
       "564           0.11590         0.24390              0.13890         0.1726   \n",
       "565           0.10340         0.14400              0.09791         0.1752   \n",
       "566           0.10230         0.09251              0.05302         0.1590   \n",
       "567           0.27700         0.35140              0.15200         0.2397   \n",
       "568           0.04362         0.00000              0.00000         0.1587   \n",
       "\n",
       "     mean fractal dimension  ...  worst texture  worst perimeter  worst area  \\\n",
       "0                   0.07871  ...          17.33           184.60      2019.0   \n",
       "1                   0.05667  ...          23.41           158.80      1956.0   \n",
       "2                   0.05999  ...          25.53           152.50      1709.0   \n",
       "3                   0.09744  ...          26.50            98.87       567.7   \n",
       "4                   0.05883  ...          16.67           152.20      1575.0   \n",
       "..                      ...  ...            ...              ...         ...   \n",
       "564                 0.05623  ...          26.40           166.10      2027.0   \n",
       "565                 0.05533  ...          38.25           155.00      1731.0   \n",
       "566                 0.05648  ...          34.12           126.70      1124.0   \n",
       "567                 0.07016  ...          39.42           184.60      1821.0   \n",
       "568                 0.05884  ...          30.37            59.16       268.6   \n",
       "\n",
       "     worst smoothness  worst compactness  worst concavity  \\\n",
       "0             0.16220            0.66560           0.7119   \n",
       "1             0.12380            0.18660           0.2416   \n",
       "2             0.14440            0.42450           0.4504   \n",
       "3             0.20980            0.86630           0.6869   \n",
       "4             0.13740            0.20500           0.4000   \n",
       "..                ...                ...              ...   \n",
       "564           0.14100            0.21130           0.4107   \n",
       "565           0.11660            0.19220           0.3215   \n",
       "566           0.11390            0.30940           0.3403   \n",
       "567           0.16500            0.86810           0.9387   \n",
       "568           0.08996            0.06444           0.0000   \n",
       "\n",
       "     worst concave points  worst symmetry  worst fractal dimension  target  \n",
       "0                  0.2654          0.4601                  0.11890       0  \n",
       "1                  0.1860          0.2750                  0.08902       0  \n",
       "2                  0.2430          0.3613                  0.08758       0  \n",
       "3                  0.2575          0.6638                  0.17300       0  \n",
       "4                  0.1625          0.2364                  0.07678       0  \n",
       "..                    ...             ...                      ...     ...  \n",
       "564                0.2216          0.2060                  0.07115       0  \n",
       "565                0.1628          0.2572                  0.06637       0  \n",
       "566                0.1418          0.2218                  0.07820       0  \n",
       "567                0.2650          0.4087                  0.12400       0  \n",
       "568                0.0000          0.2871                  0.07039       1  \n",
       "\n",
       "[569 rows x 31 columns]"
      ]
     },
     "execution_count": 171,
     "metadata": {},
     "output_type": "execute_result"
    }
   ],
   "source": [
    "from sklearn import datasets\n",
    "bc_dataset =  datasets.load_breast_cancer()\n",
    "bc_dataset\n",
    "df2 = pd.DataFrame(bc_dataset.data, columns=bc_dataset.feature_names)\n",
    "df2['target'] = pd.Series(bc_dataset.target)\n",
    "df2"
   ]
  },
  {
   "cell_type": "code",
   "execution_count": 194,
   "id": "pacific-stocks",
   "metadata": {
    "ExecuteTime": {
     "end_time": "2021-07-29T07:45:30.700656Z",
     "start_time": "2021-07-29T07:45:30.657101Z"
    }
   },
   "outputs": [
    {
     "name": "stdout",
     "output_type": "stream",
     "text": [
      "run:  0\n",
      "[1 1 0 0 0 1 1 1 0 2 1 0 0 1 2 0 0 0 1 1 2 2 2 0 1 1 1 2 0 0 2 2 1 0 0 2 0\n",
      " 1 2 1 0 1 0 1 0 0]\n",
      "new cost:  9581.45656021015\n",
      "new silhouette:  0.36112399439669896\n",
      "best cluster cost:  9581.45656021015\n",
      "best silhoutte value:  0.36112399439669896\n",
      "best_sw [0.36112399439669896] \n",
      " best_cost: [9581.45656021015]\n"
     ]
    }
   ],
   "source": [
    "size = len(df2)\n",
    "k=3\n",
    "\n",
    "min_avg_cost = np.inf\n",
    "min_avg_sil = np.inf\n",
    "\n",
    "best_sw=[]\n",
    "best_cost=[]\n",
    "\n",
    "k_vals = [i for i in range(8)]\n",
    "\n",
    "# for k in range(2, 10, 1):\n",
    "#     print('K: ', k)\n",
    "\n",
    "runs=1\n",
    "for r in range(runs):\n",
    "    print('run: ', r)\n",
    "\n",
    "    sampling_idx = random.sample([i for i in range(569)], (40+k*2))\n",
    "#         type(sampling_idx)\n",
    "#         print(sampling_idx)\n",
    "    sample = []\n",
    "\n",
    "    # idx = sampling_idx[0]\n",
    "    # print(idx)\n",
    "    # print(df.iloc[idx])\n",
    "    for idx in sampling_idx:\n",
    "        sample.append(df2.iloc[idx])\n",
    "\n",
    "    sampled_df2 = pd.DataFrame(sample)\n",
    "    sampled_df2.shape\n",
    "    kMedoids = KMedoids(n_clusters = k, random_state = 1338)\n",
    "    kMedoids.fit(sampled_df2)\n",
    "    y_kmed = kMedoids.fit_predict(sampled_df2)\n",
    "    print(y_kmed)\n",
    "    tmp_cost_sample = kMedoids.inertia_\n",
    "    tmp_center = kMedoids.cluster_centers_\n",
    "    tem_center_index = kMedoids.medoid_indices_\n",
    "\n",
    "    from sklearn.metrics import silhouette_samples, silhouette_score\n",
    "    tmp_silhouette_avg = silhouette_score(sampled_df2, y_kmed)\n",
    "#         print(tmp_cost_sample, tmp_silhouette_avg)\n",
    "\n",
    "    if tmp_cost_sample < min_avg_cost: # and tmp_silhouette_avg <= min_avg_sil:\n",
    "        min_avg_cost = tmp_cost_sample\n",
    "        min_avg_sil = tmp_silhouette_avg\n",
    "        print(\"new cost: \", min_avg_cost)\n",
    "        print(\"new silhouette: \", min_avg_sil)\n",
    "        new_center = tmp_center\n",
    "\n",
    "    print('best cluster cost: ', min_avg_cost)\n",
    "    print('best silhoutte value: ', min_avg_sil )\n",
    "    # print('best center: ', new_center)\n",
    "    best_sw.append(min_avg_sil)\n",
    "    best_cost.append(min_avg_cost)\n",
    "print('best_sw', best_sw, \"\\n\", 'best_cost:', best_cost)"
   ]
  },
  {
   "cell_type": "code",
   "execution_count": 195,
   "id": "delayed-convenience",
   "metadata": {
    "ExecuteTime": {
     "end_time": "2021-07-29T07:45:34.007212Z",
     "start_time": "2021-07-29T07:45:33.829760Z"
    }
   },
   "outputs": [
    {
     "data": {
      "image/png": "[encoded data removed]",
      "text/plain": [
       "<Figure size 432x288 with 1 Axes>"
      ]
     },
     "metadata": {
      "needs_background": "light"
     },
     "output_type": "display_data"
    }
   ],
   "source": [
    "plt.scatter(sampled_df2.iloc[:,0], sampled_df2.iloc[:,1], c=y_kmed);"
   ]
  },
  {
   "cell_type": "markdown",
   "id": "hungry-superintendent",
   "metadata": {
    "ExecuteTime": {
     "end_time": "2021-07-29T07:21:30.446644Z",
     "start_time": "2021-07-29T07:21:30.443708Z"
    }
   },
   "source": [
    "Checking the best k\n"
   ]
  },
  {
   "cell_type": "code",
   "execution_count": 197,
   "id": "forward-maine",
   "metadata": {
    "ExecuteTime": {
     "end_time": "2021-07-29T07:49:14.843834Z",
     "start_time": "2021-07-29T07:49:13.957742Z"
    }
   },
   "outputs": [
    {
     "name": "stdout",
     "output_type": "stream",
     "text": [
      "K:  2\n",
      "run:  0\n",
      "[1 1 1 1 0 0 1 0 1 1 1 1 1 1 1 0 1 0 1 1 1 1 0 1 1 1 0 0 0 1 1 0 1 1 1 1 1\n",
      " 1 1 0 1 1 1 1]\n",
      "new cost:  11188.74931126472\n",
      "new silhouette:  0.7427504805757885\n",
      "run:  1\n",
      "[0 0 1 0 1 0 1 1 0 1 1 1 0 1 0 1 0 1 1 0 0 0 1 0 1 0 1 0 0 1 1 1 0 1 0 1 0\n",
      " 1 0 0 1 1 1 0]\n",
      "run:  2\n",
      "[0 0 0 0 0 0 0 0 0 0 0 0 1 1 0 0 0 0 1 0 1 1 0 0 0 0 1 0 0 0 1 1 0 0 1 1 0\n",
      " 0 1 0 0 1 0 0]\n",
      "new cost:  10033.444509144592\n",
      "new silhouette:  0.674173111880398\n",
      "run:  3\n",
      "[1 1 1 1 1 1 1 1 1 0 0 1 1 0 1 1 1 1 1 1 1 1 1 1 1 1 1 0 1 1 0 0 0 1 1 1 1\n",
      " 1 1 0 1 1 0 1]\n",
      "new cost:  9000.457300866057\n",
      "new silhouette:  0.7350015653911683\n",
      "best cluster cost:  9000.457300866057\n",
      "best silhoutte value:  0.7350015653911683\n",
      "K:  3\n",
      "run:  0\n",
      "[0 1 1 2 0 0 0 1 2 0 0 1 2 1 0 0 2 2 0 0 1 1 1 1 0 0 1 1 0 2 2 0 2 1 0 2 2\n",
      " 1 0 0 0 2 1 0 0 1]\n",
      "new cost:  8354.635580477083\n",
      "new silhouette:  0.5525771649261345\n",
      "run:  1\n",
      "[1 1 1 1 1 2 1 1 0 2 2 1 2 0 0 0 1 0 0 0 2 0 1 1 2 0 1 1 2 2 2 1 0 1 0 1 2\n",
      " 0 0 1 1 0 0 1 0 2]\n",
      "run:  2\n",
      "[0 0 2 1 1 2 2 1 2 1 1 0 2 1 2 1 2 0 2 1 2 0 1 0 2 1 1 0 2 1 0 1 0 0 2 0 1\n",
      " 0 0 1 1 1 1 2 1 1]\n",
      "run:  3\n",
      "[1 2 1 1 0 1 2 1 2 0 0 1 2 0 2 0 0 0 1 0 1 2 2 0 1 2 2 1 1 1 2 0 2 1 2 2 1\n",
      " 0 1 1 1 1 0 0 0 2]\n",
      "best cluster cost:  8354.635580477083\n",
      "best silhoutte value:  0.5525771649261345\n",
      "K:  4\n",
      "run:  0\n",
      "[2 1 2 2 3 0 3 3 1 3 2 3 1 3 3 2 2 1 3 3 3 0 2 1 1 2 2 3 0 3 3 3 0 3 0 3 0\n",
      " 1 2 1 2 1 2 0 2 2 0 1]\n",
      "new cost:  5873.859096886968\n",
      "new silhouette:  0.5268609993777708\n",
      "run:  1\n",
      "[1 0 3 1 0 0 3 1 2 1 3 2 1 3 1 1 1 2 2 1 0 1 1 0 1 1 2 3 3 0 3 0 1 0 1 3 1\n",
      " 3 2 2 2 1 1 2 1 1 2 0]\n",
      "run:  2\n",
      "[3 1 1 2 0 0 2 1 2 0 3 1 2 0 1 0 3 2 2 2 1 1 0 1 2 2 3 1 2 3 0 2 0 2 3 3 1\n",
      " 2 2 2 3 2 1 2 2 0 2 2]\n",
      "run:  3\n",
      "[3 1 1 2 1 2 2 1 1 0 1 3 2 1 0 0 0 3 1 0 1 2 2 2 2 1 3 1 0 0 2 1 3 1 0 0 1\n",
      " 3 1 3 0 0 1 1 3 2 0 2]\n",
      "best cluster cost:  5873.859096886968\n",
      "best silhoutte value:  0.5268609993777708\n",
      "K:  5\n",
      "run:  0\n",
      "[3 4 1 2 3 3 1 0 3 2 2 3 0 2 0 2 3 0 3 3 0 1 2 1 1 1 2 2 2 0 4 2 1 4 0 1 0\n",
      " 1 3 2 1 0 3 0 3 0 4 4 1 4]\n",
      "new cost:  5336.405978611913\n",
      "new silhouette:  0.40817234526734586\n",
      "run:  1\n",
      "[2 3 2 4 4 3 1 3 2 0 0 2 0 4 3 2 2 2 2 4 4 4 1 3 3 3 3 4 4 1 3 0 3 4 0 0 2\n",
      " 1 4 2 4 4 3 0 1 1 4 2 2 2]\n",
      "run:  2\n",
      "[0 3 3 2 3 0 1 3 2 1 0 4 3 2 3 2 4 4 3 2 1 2 2 0 4 1 3 3 0 0 0 3 1 2 3 4 4\n",
      " 3 4 1 0 4 3 2 4 1 3 1 1 3]\n",
      "run:  3\n",
      "[3 2 4 2 4 0 3 4 4 2 0 2 4 0 4 0 2 4 0 4 0 4 3 3 3 3 3 4 1 1 4 4 0 4 3 2 0\n",
      " 1 2 1 4 0 0 1 0 0 3 3 2 4]\n",
      "best cluster cost:  5336.405978611913\n",
      "best silhoutte value:  0.40817234526734586\n",
      "K:  6\n",
      "run:  0\n",
      "[4 4 4 2 2 3 1 3 2 2 4 2 4 0 3 1 0 4 4 0 0 0 2 2 1 2 4 0 3 3 2 2 2 4 4 1 2\n",
      " 4 3 3 0 2 3 4 0 4 4 4 2 0 4 5]\n",
      "run:  1\n",
      "[4 0 4 5 2 0 5 3 1 3 5 0 4 3 3 3 2 3 2 1 3 2 2 3 2 1 4 2 2 2 5 1 1 1 4 1 5\n",
      " 1 1 2 3 3 5 4 0 0 0 2 2 5 5 2]\n",
      "run:  2\n",
      "[5 0 2 2 1 5 4 1 0 3 2 5 5 2 1 5 4 2 0 0 2 5 5 1 1 2 4 1 1 5 5 5 1 0 2 4 0\n",
      " 5 5 3 5 1 0 1 5 1 0 2 5 3 5 2]\n",
      "run:  3\n",
      "[0 3 0 4 4 5 2 1 1 0 5 2 0 5 0 5 2 5 0 2 0 5 1 5 5 4 5 5 5 4 5 5 5 1 5 1 5\n",
      " 5 1 0 2 3 2 3 5 4 1 0 2 4 4 2]\n",
      "best cluster cost:  5336.405978611913\n",
      "best silhoutte value:  0.40817234526734586\n",
      "K:  7\n",
      "run:  0\n",
      "[1 2 2 1 3 1 5 6 4 3 6 6 3 1 0 4 1 1 1 6 1 6 6 3 4 6 2 0 1 4 5 2 4 4 4 4 3\n",
      " 1 0 3 6 4 6 4 4 6 2 3 1 4 0 1 4 4]\n",
      "run:  1\n",
      "[5 3 6 4 5 5 1 1 3 4 6 3 2 5 5 0 5 3 0 3 2 2 2 3 6 1 2 1 6 3 0 5 3 6 5 4 5\n",
      " 5 5 4 6 2 5 2 0 6 2 3 3 1 1 4 3 4]\n",
      "run:  2\n",
      "[3 4 2 3 3 3 6 3 2 5 0 4 5 1 5 1 1 0 4 1 3 2 4 2 5 6 3 2 3 3 5 1 5 4 0 1 5\n",
      " 5 1 5 6 4 5 4 0 2 5 1 6 6 5 4 4 2]\n",
      "run:  3\n",
      "[5 2 3 3 3 0 3 6 3 0 2 5 5 6 4 2 2 6 3 3 3 1 3 3 3 2 4 2 3 5 5 6 4 2 6 2 6\n",
      " 3 4 6 3 5 2 6 4 3 5 1 4 4 5 6 2 4]\n",
      "best cluster cost:  5336.405978611913\n",
      "best silhoutte value:  0.40817234526734586\n",
      "K:  8\n",
      "run:  0\n",
      "[7 6 7 7 4 0 0 7 2 2 7 3 7 1 7 7 0 0 1 1 7 7 7 7 5 2 1 2 7 7 5 1 5 1 0 7 7\n",
      " 7 7 1 1 7 0 7 7 3 7 1 5 5 0 5 1 1 5 0]\n",
      "run:  1\n",
      "[4 3 3 1 4 2 0 4 3 7 6 4 3 0 7 7 1 3 4 7 7 6 1 4 2 7 4 1 3 7 3 4 7 6 4 6 1\n",
      " 3 0 4 4 3 3 5 4 6 3 7 2 3 4 7 3 5 7 4]\n",
      "run:  2\n",
      "[7 7 7 7 1 7 4 0 4 3 0 2 3 5 4 6 3 6 4 3 7 6 0 3 5 1 7 1 6 3 0 5 2 5 0 0 1\n",
      " 3 0 5 3 3 7 7 4 1 5 3 6 1 0 4 6 6 2 6]\n",
      "run:  3\n",
      "[0 7 5 5 0 3 5 3 5 0 0 5 3 2 5 6 7 3 7 7 3 1 7 0 1 7 2 2 5 4 6 0 4 0 2 7 0\n",
      " 7 7 0 5 4 0 0 7 0 5 7 6 3 4 0 4 3 0 7]\n",
      "best cluster cost:  5336.405978611913\n",
      "best silhoutte value:  0.40817234526734586\n",
      "K:  9\n",
      "run:  0\n",
      "[8 1 7 0 4 8 5 6 6 1 4 3 2 0 6 4 1 6 8 8 1 2 0 2 7 2 6 7 2 2 7 7 2 7 5 0 0\n",
      " 7 6 7 6 0 5 6 1 7 7 6 1 2 3 6 8 7 0 6 2 0]\n",
      "run:  1\n",
      "[7 7 4 8 2 5 7 7 3 8 8 3 5 2 5 8 2 7 7 7 7 6 7 5 6 5 8 7 7 7 8 8 5 0 7 5 2\n",
      " 8 5 3 7 8 3 7 5 1 3 7 4 3 0 5 5 5 7 0 7 8]\n",
      "run:  2\n",
      "[3 2 7 1 7 6 6 2 7 2 4 7 3 6 6 3 4 2 7 7 3 7 2 3 7 5 3 2 2 3 8 7 2 6 6 1 2\n",
      " 6 0 7 1 2 3 3 7 1 1 6 6 2 3 5 6 1 0 7 2 2]\n",
      "run:  3\n",
      "[4 4 8 3 0 6 8 1 8 2 6 1 0 0 1 3 4 6 8 7 8 5 0 8 2 0 6 1 8 4 8 1 8 6 1 6 3\n",
      " 0 8 4 4 2 1 7 8 4 1 4 8 4 6 5 0 4 1 4 1 1]\n",
      "best cluster cost:  5336.405978611913\n",
      "best silhoutte value:  0.40817234526734586\n",
      "best_sw [0.7350015653911683, 0.5525771649261345, 0.5268609993777708, 0.40817234526734586, 0.40817234526734586, 0.40817234526734586, 0.40817234526734586, 0.40817234526734586] \n",
      " best_cost: [9000.457300866057, 8354.635580477083, 5873.859096886968, 5336.405978611913, 5336.405978611913, 5336.405978611913, 5336.405978611913, 5336.405978611913]\n"
     ]
    }
   ],
   "source": [
    "size = len(df2)\n",
    "# k=3\n",
    "\n",
    "min_avg_cost = np.inf\n",
    "min_avg_sil = np.inf\n",
    "\n",
    "best_sw=[]\n",
    "best_cost=[]\n",
    "\n",
    "k_vals = [i for i in range(8)]\n",
    "\n",
    "for k in range(2, 10, 1):\n",
    "    print('K: ', k)\n",
    "\n",
    "    runs=4\n",
    "    for r in range(runs):\n",
    "        print('run: ', r)\n",
    "\n",
    "        sampling_idx = random.sample([i for i in range(569)], (40+k*2))\n",
    "    #         type(sampling_idx)\n",
    "    #         print(sampling_idx)\n",
    "        sample = []\n",
    "\n",
    "        # idx = sampling_idx[0]\n",
    "        # print(idx)\n",
    "        # print(df.iloc[idx])\n",
    "        for idx in sampling_idx:\n",
    "            sample.append(df2.iloc[idx])\n",
    "\n",
    "        sampled_df3 = pd.DataFrame(sample)\n",
    "        sampled_df3.shape\n",
    "        kMedoids = KMedoids(n_clusters = k, random_state = 1338)\n",
    "        kMedoids.fit(sampled_df3)\n",
    "        y_kmed = kMedoids.fit_predict(sampled_df3)\n",
    "        print(y_kmed)\n",
    "        tmp_cost_sample = kMedoids.inertia_\n",
    "        tmp_center = kMedoids.cluster_centers_\n",
    "        tem_center_index = kMedoids.medoid_indices_\n",
    "\n",
    "        from sklearn.metrics import silhouette_samples, silhouette_score\n",
    "        tmp_silhouette_avg = silhouette_score(sampled_df3, y_kmed)\n",
    "    #         print(tmp_cost_sample, tmp_silhouette_avg)\n",
    "\n",
    "        if tmp_cost_sample < min_avg_cost: # and tmp_silhouette_avg <= min_avg_sil:\n",
    "            min_avg_cost = tmp_cost_sample\n",
    "            min_avg_sil = tmp_silhouette_avg\n",
    "            print(\"new cost: \", min_avg_cost)\n",
    "            print(\"new silhouette: \", min_avg_sil)\n",
    "            new_center = tmp_center\n",
    "\n",
    "    print('best cluster cost: ', min_avg_cost)\n",
    "    print('best silhoutte value: ', min_avg_sil )\n",
    "    # print('best center: ', new_center)\n",
    "    best_sw.append(min_avg_sil)\n",
    "    best_cost.append(min_avg_cost)\n",
    "print('best_sw', best_sw, \"\\n\", 'best_cost:', best_cost)"
   ]
  },
  {
   "cell_type": "code",
   "execution_count": 198,
   "id": "patent-correction",
   "metadata": {
    "ExecuteTime": {
     "end_time": "2021-07-29T07:49:44.788911Z",
     "start_time": "2021-07-29T07:49:44.612697Z"
    },
    "scrolled": true
   },
   "outputs": [
    {
     "data": {
      "image/png": "[encoded data removed]",
      "text/plain": [
       "<Figure size 432x288 with 1 Axes>"
      ]
     },
     "metadata": {
      "needs_background": "light"
     },
     "output_type": "display_data"
    }
   ],
   "source": [
    "plt.plot(range(2, 10), best_cost)\n",
    "# plt.title('Cost')\n",
    "plt.xlabel('Number of clusters, k')\n",
    "plt.ylabel('SSE')      #within cluster sum of squares\n",
    "plt.show()"
   ]
  },
  {
   "cell_type": "code",
   "execution_count": 199,
   "id": "floral-cooperation",
   "metadata": {
    "ExecuteTime": {
     "end_time": "2021-07-29T07:49:49.324539Z",
     "start_time": "2021-07-29T07:49:49.138399Z"
    }
   },
   "outputs": [
    {
     "data": {
      "image/png": "[encoded data removed]",
      "text/plain": [
       "<Figure size 432x288 with 1 Axes>"
      ]
     },
     "metadata": {
      "needs_background": "light"
     },
     "output_type": "display_data"
    }
   ],
   "source": [
    "plt.plot(range(2, 10), best_sw)\n",
    "plt.title('Silhoute Score')\n",
    "plt.xlabel('Number of clusters')\n",
    "plt.ylabel('SW')      #within cluster sum of squares\n",
    "plt.show()"
   ]
  },
  {
   "cell_type": "code",
   "execution_count": null,
   "id": "hazardous-controversy",
   "metadata": {},
   "outputs": [],
   "source": []
  },
  {
   "cell_type": "code",
   "execution_count": null,
   "id": "advised-european",
   "metadata": {},
   "outputs": [],
   "source": []
  },
  {
   "cell_type": "code",
   "execution_count": null,
   "id": "arctic-coupon",
   "metadata": {},
   "outputs": [],
   "source": []
  },
  {
   "cell_type": "markdown",
   "id": "objective-incidence",
   "metadata": {},
   "source": [
    "Scratch from here"
   ]
  },
  {
   "cell_type": "code",
   "execution_count": null,
   "id": "turkish-publicity",
   "metadata": {},
   "outputs": [],
   "source": []
  },
  {
   "cell_type": "code",
   "execution_count": null,
   "id": "interior-therapist",
   "metadata": {},
   "outputs": [],
   "source": []
  },
  {
   "cell_type": "code",
   "execution_count": null,
   "id": "romantic-setup",
   "metadata": {},
   "outputs": [],
   "source": []
  },
  {
   "cell_type": "code",
   "execution_count": null,
   "id": "natural-domain",
   "metadata": {},
   "outputs": [],
   "source": []
  }
 ],
 "metadata": {
  "kernelspec": {
   "display_name": "Python 3",
   "language": "python",
   "name": "python3"
  },
  "language_info": {
   "codemirror_mode": {
    "name": "ipython",
    "version": 3
   },
   "file_extension": ".py",
   "mimetype": "text/x-python",
   "name": "python",
   "nbconvert_exporter": "python",
   "pygments_lexer": "ipython3",
   "version": "3.8.8"
  }
 },
 "nbformat": 4,
 "nbformat_minor": 5
}
